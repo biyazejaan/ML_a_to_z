{
 "cells": [
  {
   "cell_type": "code",
   "execution_count": null,
   "metadata": {},
   "outputs": [],
   "source": []
  },
  {
   "cell_type": "markdown",
   "metadata": {},
   "source": [
    "Outliers data ki wo values hen jo normal spread sy hat kar hoty hen.\n",
    "- class ky wo bachy jo hamesha full marks leta hai ya wo jo hamesha 0 leta hai\n",
    "chalen is example ko thora explain karty hen, normaly jo student ziada hours parhta hai usky marks bhi ziada aaty hen or jo kam hours parhta hai usky marks bhi kam aaty hen, magar kuch students aysy hoty hen jo kam parh kar bhi ziada marks leta hai or ziada parh kar bhi kam marks leta hai, is ko outliers kaha jata hai.\n",
    "\n",
    "- Kuch outliers completly useless hoty hen jesa ka age column mein koe 300 put kar dy to its impossible, is ko hum remove karty hen.\n",
    "- Kuch outliers zarori hoty hen kunka wo hamen koe information provide karty hen jesa ka koe student 100% marks leta hai, ab is sy ham class topper ko identify kar saktay hen.\n",
    "- Weight Based algorithems par outliers ziada effect karty hen, is liye outliers ko remove karna zarori hai.\n",
    "- Magar Tree Based algorithems par outliers ziada effect nahi karty hen, is liye outliers ko remove karna zarori nahi hai.\n",
    "\n",
    "- **Outliers sy deal karny ki 2 types hen**\n",
    "    - *1. Triming*\n",
    "    - *2. Caping*\n"
   ]
  },
  {
   "cell_type": "code",
   "execution_count": null,
   "metadata": {},
   "outputs": [],
   "source": []
  },
  {
   "cell_type": "code",
   "execution_count": null,
   "metadata": {},
   "outputs": [],
   "source": []
  }
 ],
 "metadata": {
  "kernelspec": {
   "display_name": "Python 3.10.2 64-bit",
   "language": "python",
   "name": "python3"
  },
  "language_info": {
   "name": "python",
   "version": "3.10.2"
  },
  "orig_nbformat": 4,
  "vscode": {
   "interpreter": {
    "hash": "56b2d59c60e4f87487f41cc5e6e8f6aa7185f560bca4a918a113fd85cb7bd9a7"
   }
  }
 },
 "nbformat": 4,
 "nbformat_minor": 2
}
